{
 "cells": [
  {
   "cell_type": "code",
   "execution_count": 2,
   "metadata": {},
   "outputs": [],
   "source": [
    "import pandas as pd\n",
    "import sqlite3"
   ]
  },
  {
   "cell_type": "code",
   "execution_count": 3,
   "metadata": {},
   "outputs": [],
   "source": [
    "con=sqlite3.connect(\"terrorism.db\")"
   ]
  },
  {
   "cell_type": "code",
   "execution_count": 4,
   "metadata": {},
   "outputs": [
    {
     "data": {
      "text/plain": [
       "181691"
      ]
     },
     "execution_count": 4,
     "metadata": {},
     "output_type": "execute_result"
    }
   ],
   "source": [
    "cleaned_data=pd.read_csv(\"cleaned_global_terrorism.csv\")\n",
    "cleaned_data.to_sql(\"terrorism_data\", con, if_exists='replace', index=False)"
   ]
  },
  {
   "cell_type": "code",
   "execution_count": 5,
   "metadata": {},
   "outputs": [
    {
     "data": {
      "application/vnd.microsoft.datawrangler.viewer.v0+json": {
       "columns": [
        {
         "name": "index",
         "rawType": "int64",
         "type": "integer"
        },
        {
         "name": "Unnamed: 0",
         "rawType": "int64",
         "type": "integer"
        },
        {
         "name": "eventid",
         "rawType": "float64",
         "type": "float"
        },
        {
         "name": "iyear",
         "rawType": "int64",
         "type": "integer"
        },
        {
         "name": "imonth",
         "rawType": "int64",
         "type": "integer"
        },
        {
         "name": "iday",
         "rawType": "int64",
         "type": "integer"
        },
        {
         "name": "country_txt",
         "rawType": "object",
         "type": "string"
        },
        {
         "name": "region_txt",
         "rawType": "object",
         "type": "string"
        },
        {
         "name": "attacktype1_txt",
         "rawType": "object",
         "type": "string"
        },
        {
         "name": "nkill",
         "rawType": "float64",
         "type": "float"
        },
        {
         "name": "nwound",
         "rawType": "float64",
         "type": "float"
        },
        {
         "name": "targtype1_txt",
         "rawType": "object",
         "type": "string"
        },
        {
         "name": "weaptype1_txt",
         "rawType": "object",
         "type": "string"
        },
        {
         "name": "casualities",
         "rawType": "float64",
         "type": "float"
        }
       ],
       "conversionMethod": "pd.DataFrame",
       "ref": "4c07c625-f001-4a69-8860-78feb2d4db9f",
       "rows": [
        [
         "0",
         "0",
         "197000000000.0",
         "1970",
         "7",
         "2",
         "Dominican Republic",
         "Central America & Caribbean",
         "Assassination",
         "1.0",
         "0.0",
         "Private Citizens & Property",
         "Unknown",
         "1.0"
        ],
        [
         "1",
         "1",
         "197000000000.0",
         "1970",
         "0",
         "0",
         "Mexico",
         "North America",
         "Hostage Taking (Kidnapping)",
         "0.0",
         "0.0",
         "Government (Diplomatic)",
         "Unknown",
         "0.0"
        ],
        [
         "2",
         "2",
         "197001000000.0",
         "1970",
         "1",
         "0",
         "Philippines",
         "Southeast Asia",
         "Assassination",
         "1.0",
         "0.0",
         "Journalists & Media",
         "Unknown",
         "1.0"
        ],
        [
         "3",
         "3",
         "197001000000.0",
         "1970",
         "1",
         "0",
         "Greece",
         "Western Europe",
         "Bombing/Explosion",
         "0.0",
         "0.0",
         "Government (Diplomatic)",
         "Explosives",
         "0.0"
        ],
        [
         "4",
         "4",
         "197001000000.0",
         "1970",
         "1",
         "0",
         "Japan",
         "East Asia",
         "Facility/Infrastructure Attack",
         "0.0",
         "0.0",
         "Government (Diplomatic)",
         "Incendiary",
         "0.0"
        ],
        [
         "5",
         "5",
         "197001000000.0",
         "1970",
         "1",
         "1",
         "United States",
         "North America",
         "Armed Assault",
         "0.0",
         "0.0",
         "Police",
         "Firearms",
         "0.0"
        ],
        [
         "6",
         "6",
         "197001000000.0",
         "1970",
         "1",
         "2",
         "Uruguay",
         "South America",
         "Assassination",
         "0.0",
         "0.0",
         "Police",
         "Firearms",
         "0.0"
        ],
        [
         "7",
         "7",
         "197001000000.0",
         "1970",
         "1",
         "2",
         "United States",
         "North America",
         "Bombing/Explosion",
         "0.0",
         "0.0",
         "Utilities",
         "Explosives",
         "0.0"
        ],
        [
         "8",
         "8",
         "197001000000.0",
         "1970",
         "1",
         "2",
         "United States",
         "North America",
         "Facility/Infrastructure Attack",
         "0.0",
         "0.0",
         "Military",
         "Incendiary",
         "0.0"
        ],
        [
         "9",
         "9",
         "197001000000.0",
         "1970",
         "1",
         "3",
         "United States",
         "North America",
         "Facility/Infrastructure Attack",
         "0.0",
         "0.0",
         "Government (General)",
         "Incendiary",
         "0.0"
        ],
        [
         "10",
         "10",
         "197001000000.0",
         "1970",
         "1",
         "1",
         "United States",
         "North America",
         "Bombing/Explosion",
         "0.0",
         "0.0",
         "Military",
         "Explosives",
         "0.0"
        ],
        [
         "11",
         "11",
         "197001000000.0",
         "1970",
         "1",
         "6",
         "United States",
         "North America",
         "Facility/Infrastructure Attack",
         "0.0",
         "0.0",
         "Military",
         "Incendiary",
         "0.0"
        ],
        [
         "12",
         "12",
         "197001000000.0",
         "1970",
         "1",
         "8",
         "Italy",
         "Western Europe",
         "Hijacking",
         "0.0",
         "0.0",
         "Airports & Aircraft",
         "Firearms",
         "0.0"
        ],
        [
         "13",
         "13",
         "197001000000.0",
         "1970",
         "1",
         "9",
         "United States",
         "North America",
         "Facility/Infrastructure Attack",
         "0.0",
         "0.0",
         "Government (General)",
         "Incendiary",
         "0.0"
        ],
        [
         "14",
         "14",
         "197001000000.0",
         "1970",
         "1",
         "9",
         "United States",
         "North America",
         "Facility/Infrastructure Attack",
         "0.0",
         "0.0",
         "Business",
         "Incendiary",
         "0.0"
        ],
        [
         "15",
         "15",
         "197001000000.0",
         "1970",
         "1",
         "10",
         "East Germany (GDR)",
         "Eastern Europe",
         "Bombing/Explosion",
         "0.0",
         "0.0",
         "Government (General)",
         "Explosives",
         "0.0"
        ],
        [
         "16",
         "16",
         "197001000000.0",
         "1970",
         "1",
         "11",
         "Ethiopia",
         "Sub-Saharan Africa",
         "Unknown",
         "1.0",
         "0.0",
         "Military",
         "Unknown",
         "1.0"
        ],
        [
         "17",
         "17",
         "197001000000.0",
         "1970",
         "1",
         "12",
         "United States",
         "North America",
         "Bombing/Explosion",
         "0.0",
         "0.0",
         "Educational Institution",
         "Explosives",
         "0.0"
        ],
        [
         "18",
         "18",
         "197001000000.0",
         "1970",
         "1",
         "12",
         "United States",
         "North America",
         "Bombing/Explosion",
         "0.0",
         "0.0",
         "Business",
         "Explosives",
         "0.0"
        ],
        [
         "19",
         "19",
         "197001000000.0",
         "1970",
         "1",
         "13",
         "United States",
         "North America",
         "Facility/Infrastructure Attack",
         "0.0",
         "0.0",
         "Business",
         "Incendiary",
         "0.0"
        ],
        [
         "20",
         "20",
         "197001000000.0",
         "1970",
         "1",
         "14",
         "United States",
         "North America",
         "Facility/Infrastructure Attack",
         "0.0",
         "1.0",
         "Police",
         "Incendiary",
         "1.0"
        ],
        [
         "21",
         "21",
         "197001000000.0",
         "1970",
         "1",
         "15",
         "Uruguay",
         "South America",
         "Armed Assault",
         "0.0",
         "0.0",
         "Educational Institution",
         "Firearms",
         "0.0"
        ],
        [
         "22",
         "22",
         "197001000000.0",
         "1970",
         "1",
         "19",
         "United States",
         "North America",
         "Bombing/Explosion",
         "0.0",
         "0.0",
         "Educational Institution",
         "Explosives",
         "0.0"
        ],
        [
         "23",
         "23",
         "197001000000.0",
         "1970",
         "1",
         "19",
         "United States",
         "North America",
         "Bombing/Explosion",
         "0.0",
         "0.0",
         "Military",
         "Explosives",
         "0.0"
        ],
        [
         "24",
         "24",
         "197001000000.0",
         "1970",
         "1",
         "19",
         "United States",
         "North America",
         "Facility/Infrastructure Attack",
         "0.0",
         "0.0",
         "Violent Political Party",
         "Incendiary",
         "0.0"
        ],
        [
         "25",
         "25",
         "197001000000.0",
         "1970",
         "1",
         "20",
         "Guatemala",
         "Central America & Caribbean",
         "Assassination",
         "1.0",
         "0.0",
         "Government (Diplomatic)",
         "Unknown",
         "1.0"
        ],
        [
         "26",
         "26",
         "197001000000.0",
         "1970",
         "1",
         "21",
         "Philippines",
         "Southeast Asia",
         "Bombing/Explosion",
         "0.0",
         "0.0",
         "Government (Diplomatic)",
         "Explosives",
         "0.0"
        ],
        [
         "27",
         "27",
         "197001000000.0",
         "1970",
         "1",
         "22",
         "Venezuela",
         "South America",
         "Hostage Taking (Kidnapping)",
         "0.0",
         "0.0",
         "Business",
         "Unknown",
         "0.0"
        ],
        [
         "28",
         "28",
         "197001000000.0",
         "1970",
         "1",
         "22",
         "United States",
         "North America",
         "Bombing/Explosion",
         "0.0",
         "0.0",
         "Private Citizens & Property",
         "Explosives",
         "0.0"
        ],
        [
         "29",
         "29",
         "197001000000.0",
         "1970",
         "1",
         "25",
         "United States",
         "North America",
         "Facility/Infrastructure Attack",
         "0.0",
         "0.0",
         "Private Citizens & Property",
         "Incendiary",
         "0.0"
        ],
        [
         "30",
         "30",
         "197001000000.0",
         "1970",
         "1",
         "25",
         "United States",
         "North America",
         "Armed Assault",
         "0.0",
         "2.0",
         "Police",
         "Firearms",
         "2.0"
        ],
        [
         "31",
         "31",
         "197001000000.0",
         "1970",
         "1",
         "26",
         "United States",
         "North America",
         "Bombing/Explosion",
         "0.0",
         "0.0",
         "Government (General)",
         "Explosives",
         "0.0"
        ],
        [
         "32",
         "32",
         "197001000000.0",
         "1970",
         "1",
         "26",
         "United States",
         "North America",
         "Armed Assault",
         "0.0",
         "0.0",
         "Police",
         "Firearms",
         "0.0"
        ],
        [
         "33",
         "33",
         "197001000000.0",
         "1970",
         "1",
         "27",
         "United States",
         "North America",
         "Facility/Infrastructure Attack",
         "0.0",
         "0.0",
         "Government (General)",
         "Incendiary",
         "0.0"
        ],
        [
         "34",
         "34",
         "197001000000.0",
         "1970",
         "1",
         "28",
         "East Germany (GDR)",
         "Eastern Europe",
         "Facility/Infrastructure Attack",
         "0.0",
         "0.0",
         "Police",
         "Incendiary",
         "0.0"
        ],
        [
         "35",
         "35",
         "197001000000.0",
         "1970",
         "1",
         "28",
         "United States",
         "North America",
         "Bombing/Explosion",
         "0.0",
         "0.0",
         "Religious Figures/Institutions",
         "Explosives",
         "0.0"
        ],
        [
         "36",
         "36",
         "197001000000.0",
         "1970",
         "1",
         "30",
         "United States",
         "North America",
         "Bombing/Explosion",
         "0.0",
         "0.0",
         "Unknown",
         "Explosives",
         "0.0"
        ],
        [
         "37",
         "37",
         "197001000000.0",
         "1970",
         "1",
         "30",
         "United States",
         "North America",
         "Bombing/Explosion",
         "0.0",
         "0.0",
         "Business",
         "Explosives",
         "0.0"
        ],
        [
         "38",
         "38",
         "197001000000.0",
         "1970",
         "1",
         "30",
         "United States",
         "North America",
         "Facility/Infrastructure Attack",
         "0.0",
         "0.0",
         "Military",
         "Incendiary",
         "0.0"
        ],
        [
         "39",
         "39",
         "197001000000.0",
         "1970",
         "1",
         "31",
         "Philippines",
         "Southeast Asia",
         "Unknown",
         "0.0",
         "1.0",
         "Military",
         "Unknown",
         "1.0"
        ],
        [
         "40",
         "40",
         "197001000000.0",
         "1970",
         "1",
         "31",
         "United States",
         "North America",
         "Bombing/Explosion",
         "0.0",
         "0.0",
         "Police",
         "Explosives",
         "0.0"
        ],
        [
         "41",
         "41",
         "197002000000.0",
         "1970",
         "2",
         "1",
         "United States",
         "North America",
         "Facility/Infrastructure Attack",
         "0.0",
         "0.0",
         "Government (General)",
         "Incendiary",
         "0.0"
        ],
        [
         "42",
         "42",
         "197002000000.0",
         "1970",
         "2",
         "1",
         "United States",
         "North America",
         "Armed Assault",
         "0.0",
         "0.0",
         "Police",
         "Firearms",
         "0.0"
        ],
        [
         "43",
         "43",
         "197002000000.0",
         "1970",
         "2",
         "2",
         "United States",
         "North America",
         "Facility/Infrastructure Attack",
         "0.0",
         "0.0",
         "Business",
         "Incendiary",
         "0.0"
        ],
        [
         "44",
         "44",
         "197002000000.0",
         "1970",
         "2",
         "3",
         "United States",
         "North America",
         "Facility/Infrastructure Attack",
         "0.0",
         "0.0",
         "Business",
         "Incendiary",
         "0.0"
        ],
        [
         "45",
         "45",
         "197002000000.0",
         "1970",
         "2",
         "3",
         "United States",
         "North America",
         "Facility/Infrastructure Attack",
         "0.0",
         "0.0",
         "Business",
         "Incendiary",
         "0.0"
        ],
        [
         "46",
         "46",
         "197002000000.0",
         "1970",
         "2",
         "4",
         "United States",
         "North America",
         "Bombing/Explosion",
         "0.0",
         "0.0",
         "Private Citizens & Property",
         "Explosives",
         "0.0"
        ],
        [
         "47",
         "47",
         "197002000000.0",
         "1970",
         "2",
         "6",
         "United States",
         "North America",
         "Bombing/Explosion",
         "0.0",
         "0.0",
         "Transportation",
         "Explosives",
         "0.0"
        ],
        [
         "48",
         "48",
         "197002000000.0",
         "1970",
         "2",
         "6",
         "United States",
         "North America",
         "Bombing/Explosion",
         "0.0",
         "0.0",
         "Government (General)",
         "Explosives",
         "0.0"
        ],
        [
         "49",
         "49",
         "197002000000.0",
         "1970",
         "2",
         "6",
         "United States",
         "North America",
         "Bombing/Explosion",
         "0.0",
         "0.0",
         "Religious Figures/Institutions",
         "Explosives",
         "0.0"
        ]
       ],
       "shape": {
        "columns": 13,
        "rows": 181691
       }
      },
      "text/html": [
       "<div>\n",
       "<style scoped>\n",
       "    .dataframe tbody tr th:only-of-type {\n",
       "        vertical-align: middle;\n",
       "    }\n",
       "\n",
       "    .dataframe tbody tr th {\n",
       "        vertical-align: top;\n",
       "    }\n",
       "\n",
       "    .dataframe thead th {\n",
       "        text-align: right;\n",
       "    }\n",
       "</style>\n",
       "<table border=\"1\" class=\"dataframe\">\n",
       "  <thead>\n",
       "    <tr style=\"text-align: right;\">\n",
       "      <th></th>\n",
       "      <th>Unnamed: 0</th>\n",
       "      <th>eventid</th>\n",
       "      <th>iyear</th>\n",
       "      <th>imonth</th>\n",
       "      <th>iday</th>\n",
       "      <th>country_txt</th>\n",
       "      <th>region_txt</th>\n",
       "      <th>attacktype1_txt</th>\n",
       "      <th>nkill</th>\n",
       "      <th>nwound</th>\n",
       "      <th>targtype1_txt</th>\n",
       "      <th>weaptype1_txt</th>\n",
       "      <th>casualities</th>\n",
       "    </tr>\n",
       "  </thead>\n",
       "  <tbody>\n",
       "    <tr>\n",
       "      <th>0</th>\n",
       "      <td>0</td>\n",
       "      <td>1.970000e+11</td>\n",
       "      <td>1970</td>\n",
       "      <td>7</td>\n",
       "      <td>2</td>\n",
       "      <td>Dominican Republic</td>\n",
       "      <td>Central America &amp; Caribbean</td>\n",
       "      <td>Assassination</td>\n",
       "      <td>1.0</td>\n",
       "      <td>0.0</td>\n",
       "      <td>Private Citizens &amp; Property</td>\n",
       "      <td>Unknown</td>\n",
       "      <td>1.0</td>\n",
       "    </tr>\n",
       "    <tr>\n",
       "      <th>1</th>\n",
       "      <td>1</td>\n",
       "      <td>1.970000e+11</td>\n",
       "      <td>1970</td>\n",
       "      <td>0</td>\n",
       "      <td>0</td>\n",
       "      <td>Mexico</td>\n",
       "      <td>North America</td>\n",
       "      <td>Hostage Taking (Kidnapping)</td>\n",
       "      <td>0.0</td>\n",
       "      <td>0.0</td>\n",
       "      <td>Government (Diplomatic)</td>\n",
       "      <td>Unknown</td>\n",
       "      <td>0.0</td>\n",
       "    </tr>\n",
       "    <tr>\n",
       "      <th>2</th>\n",
       "      <td>2</td>\n",
       "      <td>1.970010e+11</td>\n",
       "      <td>1970</td>\n",
       "      <td>1</td>\n",
       "      <td>0</td>\n",
       "      <td>Philippines</td>\n",
       "      <td>Southeast Asia</td>\n",
       "      <td>Assassination</td>\n",
       "      <td>1.0</td>\n",
       "      <td>0.0</td>\n",
       "      <td>Journalists &amp; Media</td>\n",
       "      <td>Unknown</td>\n",
       "      <td>1.0</td>\n",
       "    </tr>\n",
       "    <tr>\n",
       "      <th>3</th>\n",
       "      <td>3</td>\n",
       "      <td>1.970010e+11</td>\n",
       "      <td>1970</td>\n",
       "      <td>1</td>\n",
       "      <td>0</td>\n",
       "      <td>Greece</td>\n",
       "      <td>Western Europe</td>\n",
       "      <td>Bombing/Explosion</td>\n",
       "      <td>0.0</td>\n",
       "      <td>0.0</td>\n",
       "      <td>Government (Diplomatic)</td>\n",
       "      <td>Explosives</td>\n",
       "      <td>0.0</td>\n",
       "    </tr>\n",
       "    <tr>\n",
       "      <th>4</th>\n",
       "      <td>4</td>\n",
       "      <td>1.970010e+11</td>\n",
       "      <td>1970</td>\n",
       "      <td>1</td>\n",
       "      <td>0</td>\n",
       "      <td>Japan</td>\n",
       "      <td>East Asia</td>\n",
       "      <td>Facility/Infrastructure Attack</td>\n",
       "      <td>0.0</td>\n",
       "      <td>0.0</td>\n",
       "      <td>Government (Diplomatic)</td>\n",
       "      <td>Incendiary</td>\n",
       "      <td>0.0</td>\n",
       "    </tr>\n",
       "    <tr>\n",
       "      <th>...</th>\n",
       "      <td>...</td>\n",
       "      <td>...</td>\n",
       "      <td>...</td>\n",
       "      <td>...</td>\n",
       "      <td>...</td>\n",
       "      <td>...</td>\n",
       "      <td>...</td>\n",
       "      <td>...</td>\n",
       "      <td>...</td>\n",
       "      <td>...</td>\n",
       "      <td>...</td>\n",
       "      <td>...</td>\n",
       "      <td>...</td>\n",
       "    </tr>\n",
       "    <tr>\n",
       "      <th>181686</th>\n",
       "      <td>181686</td>\n",
       "      <td>2.017120e+11</td>\n",
       "      <td>2017</td>\n",
       "      <td>12</td>\n",
       "      <td>31</td>\n",
       "      <td>Somalia</td>\n",
       "      <td>Sub-Saharan Africa</td>\n",
       "      <td>Armed Assault</td>\n",
       "      <td>1.0</td>\n",
       "      <td>2.0</td>\n",
       "      <td>Military</td>\n",
       "      <td>Firearms</td>\n",
       "      <td>3.0</td>\n",
       "    </tr>\n",
       "    <tr>\n",
       "      <th>181687</th>\n",
       "      <td>181687</td>\n",
       "      <td>2.017120e+11</td>\n",
       "      <td>2017</td>\n",
       "      <td>12</td>\n",
       "      <td>31</td>\n",
       "      <td>Syria</td>\n",
       "      <td>Middle East &amp; North Africa</td>\n",
       "      <td>Bombing/Explosion</td>\n",
       "      <td>2.0</td>\n",
       "      <td>7.0</td>\n",
       "      <td>Military</td>\n",
       "      <td>Explosives</td>\n",
       "      <td>9.0</td>\n",
       "    </tr>\n",
       "    <tr>\n",
       "      <th>181688</th>\n",
       "      <td>181688</td>\n",
       "      <td>2.017120e+11</td>\n",
       "      <td>2017</td>\n",
       "      <td>12</td>\n",
       "      <td>31</td>\n",
       "      <td>Philippines</td>\n",
       "      <td>Southeast Asia</td>\n",
       "      <td>Facility/Infrastructure Attack</td>\n",
       "      <td>0.0</td>\n",
       "      <td>0.0</td>\n",
       "      <td>Private Citizens &amp; Property</td>\n",
       "      <td>Incendiary</td>\n",
       "      <td>0.0</td>\n",
       "    </tr>\n",
       "    <tr>\n",
       "      <th>181689</th>\n",
       "      <td>181689</td>\n",
       "      <td>2.017120e+11</td>\n",
       "      <td>2017</td>\n",
       "      <td>12</td>\n",
       "      <td>31</td>\n",
       "      <td>India</td>\n",
       "      <td>South Asia</td>\n",
       "      <td>Bombing/Explosion</td>\n",
       "      <td>0.0</td>\n",
       "      <td>0.0</td>\n",
       "      <td>Government (General)</td>\n",
       "      <td>Explosives</td>\n",
       "      <td>0.0</td>\n",
       "    </tr>\n",
       "    <tr>\n",
       "      <th>181690</th>\n",
       "      <td>181690</td>\n",
       "      <td>2.017120e+11</td>\n",
       "      <td>2017</td>\n",
       "      <td>12</td>\n",
       "      <td>31</td>\n",
       "      <td>Philippines</td>\n",
       "      <td>Southeast Asia</td>\n",
       "      <td>Bombing/Explosion</td>\n",
       "      <td>0.0</td>\n",
       "      <td>0.0</td>\n",
       "      <td>Unknown</td>\n",
       "      <td>Explosives</td>\n",
       "      <td>0.0</td>\n",
       "    </tr>\n",
       "  </tbody>\n",
       "</table>\n",
       "<p>181691 rows × 13 columns</p>\n",
       "</div>"
      ],
      "text/plain": [
       "        Unnamed: 0       eventid  iyear  imonth  iday         country_txt  \\\n",
       "0                0  1.970000e+11   1970       7     2  Dominican Republic   \n",
       "1                1  1.970000e+11   1970       0     0              Mexico   \n",
       "2                2  1.970010e+11   1970       1     0         Philippines   \n",
       "3                3  1.970010e+11   1970       1     0              Greece   \n",
       "4                4  1.970010e+11   1970       1     0               Japan   \n",
       "...            ...           ...    ...     ...   ...                 ...   \n",
       "181686      181686  2.017120e+11   2017      12    31             Somalia   \n",
       "181687      181687  2.017120e+11   2017      12    31               Syria   \n",
       "181688      181688  2.017120e+11   2017      12    31         Philippines   \n",
       "181689      181689  2.017120e+11   2017      12    31               India   \n",
       "181690      181690  2.017120e+11   2017      12    31         Philippines   \n",
       "\n",
       "                         region_txt                 attacktype1_txt  nkill  \\\n",
       "0       Central America & Caribbean                   Assassination    1.0   \n",
       "1                     North America     Hostage Taking (Kidnapping)    0.0   \n",
       "2                    Southeast Asia                   Assassination    1.0   \n",
       "3                    Western Europe               Bombing/Explosion    0.0   \n",
       "4                         East Asia  Facility/Infrastructure Attack    0.0   \n",
       "...                             ...                             ...    ...   \n",
       "181686           Sub-Saharan Africa                   Armed Assault    1.0   \n",
       "181687   Middle East & North Africa               Bombing/Explosion    2.0   \n",
       "181688               Southeast Asia  Facility/Infrastructure Attack    0.0   \n",
       "181689                   South Asia               Bombing/Explosion    0.0   \n",
       "181690               Southeast Asia               Bombing/Explosion    0.0   \n",
       "\n",
       "        nwound                targtype1_txt weaptype1_txt  casualities  \n",
       "0          0.0  Private Citizens & Property       Unknown          1.0  \n",
       "1          0.0      Government (Diplomatic)       Unknown          0.0  \n",
       "2          0.0          Journalists & Media       Unknown          1.0  \n",
       "3          0.0      Government (Diplomatic)    Explosives          0.0  \n",
       "4          0.0      Government (Diplomatic)    Incendiary          0.0  \n",
       "...        ...                          ...           ...          ...  \n",
       "181686     2.0                     Military      Firearms          3.0  \n",
       "181687     7.0                     Military    Explosives          9.0  \n",
       "181688     0.0  Private Citizens & Property    Incendiary          0.0  \n",
       "181689     0.0         Government (General)    Explosives          0.0  \n",
       "181690     0.0                      Unknown    Explosives          0.0  \n",
       "\n",
       "[181691 rows x 13 columns]"
      ]
     },
     "execution_count": 5,
     "metadata": {},
     "output_type": "execute_result"
    }
   ],
   "source": [
    "new_data=pd.read_sql(\"\"\"select * from terrorism_data\"\"\",con)\n",
    "new_data"
   ]
  },
  {
   "cell_type": "code",
   "execution_count": 6,
   "metadata": {},
   "outputs": [
    {
     "data": {
      "application/vnd.microsoft.datawrangler.viewer.v0+json": {
       "columns": [
        {
         "name": "index",
         "rawType": "int64",
         "type": "integer"
        },
        {
         "name": "country_txt",
         "rawType": "object",
         "type": "string"
        },
        {
         "name": "total_casualties",
         "rawType": "float64",
         "type": "float"
        }
       ],
       "conversionMethod": "pd.DataFrame",
       "ref": "c1c4ae3f-1d58-4c9b-bd79-a9ebb656e2d1",
       "rows": [
        [
         "0",
         "Iraq",
         "213279.0"
        ],
        [
         "1",
         "Afghanistan",
         "83661.0"
        ],
        [
         "2",
         "Pakistan",
         "65860.0"
        ],
        [
         "3",
         "India",
         "48321.0"
        ],
        [
         "4",
         "Nigeria",
         "32921.0"
        ],
        [
         "5",
         "Sri Lanka",
         "31091.0"
        ],
        [
         "6",
         "Syria",
         "29338.0"
        ],
        [
         "7",
         "Colombia",
         "25026.0"
        ],
        [
         "8",
         "United States",
         "24473.0"
        ],
        [
         "9",
         "Philippines",
         "22926.0"
        ]
       ],
       "shape": {
        "columns": 2,
        "rows": 10
       }
      },
      "text/html": [
       "<div>\n",
       "<style scoped>\n",
       "    .dataframe tbody tr th:only-of-type {\n",
       "        vertical-align: middle;\n",
       "    }\n",
       "\n",
       "    .dataframe tbody tr th {\n",
       "        vertical-align: top;\n",
       "    }\n",
       "\n",
       "    .dataframe thead th {\n",
       "        text-align: right;\n",
       "    }\n",
       "</style>\n",
       "<table border=\"1\" class=\"dataframe\">\n",
       "  <thead>\n",
       "    <tr style=\"text-align: right;\">\n",
       "      <th></th>\n",
       "      <th>country_txt</th>\n",
       "      <th>total_casualties</th>\n",
       "    </tr>\n",
       "  </thead>\n",
       "  <tbody>\n",
       "    <tr>\n",
       "      <th>0</th>\n",
       "      <td>Iraq</td>\n",
       "      <td>213279.0</td>\n",
       "    </tr>\n",
       "    <tr>\n",
       "      <th>1</th>\n",
       "      <td>Afghanistan</td>\n",
       "      <td>83661.0</td>\n",
       "    </tr>\n",
       "    <tr>\n",
       "      <th>2</th>\n",
       "      <td>Pakistan</td>\n",
       "      <td>65860.0</td>\n",
       "    </tr>\n",
       "    <tr>\n",
       "      <th>3</th>\n",
       "      <td>India</td>\n",
       "      <td>48321.0</td>\n",
       "    </tr>\n",
       "    <tr>\n",
       "      <th>4</th>\n",
       "      <td>Nigeria</td>\n",
       "      <td>32921.0</td>\n",
       "    </tr>\n",
       "    <tr>\n",
       "      <th>5</th>\n",
       "      <td>Sri Lanka</td>\n",
       "      <td>31091.0</td>\n",
       "    </tr>\n",
       "    <tr>\n",
       "      <th>6</th>\n",
       "      <td>Syria</td>\n",
       "      <td>29338.0</td>\n",
       "    </tr>\n",
       "    <tr>\n",
       "      <th>7</th>\n",
       "      <td>Colombia</td>\n",
       "      <td>25026.0</td>\n",
       "    </tr>\n",
       "    <tr>\n",
       "      <th>8</th>\n",
       "      <td>United States</td>\n",
       "      <td>24473.0</td>\n",
       "    </tr>\n",
       "    <tr>\n",
       "      <th>9</th>\n",
       "      <td>Philippines</td>\n",
       "      <td>22926.0</td>\n",
       "    </tr>\n",
       "  </tbody>\n",
       "</table>\n",
       "</div>"
      ],
      "text/plain": [
       "     country_txt  total_casualties\n",
       "0           Iraq          213279.0\n",
       "1    Afghanistan           83661.0\n",
       "2       Pakistan           65860.0\n",
       "3          India           48321.0\n",
       "4        Nigeria           32921.0\n",
       "5      Sri Lanka           31091.0\n",
       "6          Syria           29338.0\n",
       "7       Colombia           25026.0\n",
       "8  United States           24473.0\n",
       "9    Philippines           22926.0"
      ]
     },
     "execution_count": 6,
     "metadata": {},
     "output_type": "execute_result"
    }
   ],
   "source": [
    "#Most Affected Countries\n",
    "new_data=pd.read_sql(\"\"\"SELECT country_txt, SUM(casualities) AS total_casualties \n",
    "FROM terrorism_data \n",
    "GROUP BY country_txt \n",
    "ORDER BY total_casualties DESC \n",
    "LIMIT 10\"\"\",con)\n",
    "new_data"
   ]
  },
  {
   "cell_type": "code",
   "execution_count": 7,
   "metadata": {},
   "outputs": [
    {
     "data": {
      "application/vnd.microsoft.datawrangler.viewer.v0+json": {
       "columns": [
        {
         "name": "index",
         "rawType": "int64",
         "type": "integer"
        },
        {
         "name": "attacktype1_txt",
         "rawType": "object",
         "type": "string"
        },
        {
         "name": "avg_casualties",
         "rawType": "float64",
         "type": "float"
        }
       ],
       "conversionMethod": "pd.DataFrame",
       "ref": "2c65c913-16ce-404a-8533-47584e8ebee4",
       "rows": [
        [
         "0",
         "Hijacking",
         "31.44"
        ],
        [
         "1",
         "Unarmed Assault",
         "14.69"
        ],
        [
         "2",
         "Hostage Taking (Barricade Incident)",
         "8.52"
        ],
        [
         "3",
         "Unknown",
         "6.47"
        ],
        [
         "4",
         "Bombing/Explosion",
         "6.01"
        ],
        [
         "5",
         "Armed Assault",
         "5.57"
        ],
        [
         "6",
         "Hostage Taking (Kidnapping)",
         "2.75"
        ],
        [
         "7",
         "Assassination",
         "2.01"
        ],
        [
         "8",
         "Facility/Infrastructure Attack",
         "0.72"
        ]
       ],
       "shape": {
        "columns": 2,
        "rows": 9
       }
      },
      "text/html": [
       "<div>\n",
       "<style scoped>\n",
       "    .dataframe tbody tr th:only-of-type {\n",
       "        vertical-align: middle;\n",
       "    }\n",
       "\n",
       "    .dataframe tbody tr th {\n",
       "        vertical-align: top;\n",
       "    }\n",
       "\n",
       "    .dataframe thead th {\n",
       "        text-align: right;\n",
       "    }\n",
       "</style>\n",
       "<table border=\"1\" class=\"dataframe\">\n",
       "  <thead>\n",
       "    <tr style=\"text-align: right;\">\n",
       "      <th></th>\n",
       "      <th>attacktype1_txt</th>\n",
       "      <th>avg_casualties</th>\n",
       "    </tr>\n",
       "  </thead>\n",
       "  <tbody>\n",
       "    <tr>\n",
       "      <th>0</th>\n",
       "      <td>Hijacking</td>\n",
       "      <td>31.44</td>\n",
       "    </tr>\n",
       "    <tr>\n",
       "      <th>1</th>\n",
       "      <td>Unarmed Assault</td>\n",
       "      <td>14.69</td>\n",
       "    </tr>\n",
       "    <tr>\n",
       "      <th>2</th>\n",
       "      <td>Hostage Taking (Barricade Incident)</td>\n",
       "      <td>8.52</td>\n",
       "    </tr>\n",
       "    <tr>\n",
       "      <th>3</th>\n",
       "      <td>Unknown</td>\n",
       "      <td>6.47</td>\n",
       "    </tr>\n",
       "    <tr>\n",
       "      <th>4</th>\n",
       "      <td>Bombing/Explosion</td>\n",
       "      <td>6.01</td>\n",
       "    </tr>\n",
       "    <tr>\n",
       "      <th>5</th>\n",
       "      <td>Armed Assault</td>\n",
       "      <td>5.57</td>\n",
       "    </tr>\n",
       "    <tr>\n",
       "      <th>6</th>\n",
       "      <td>Hostage Taking (Kidnapping)</td>\n",
       "      <td>2.75</td>\n",
       "    </tr>\n",
       "    <tr>\n",
       "      <th>7</th>\n",
       "      <td>Assassination</td>\n",
       "      <td>2.01</td>\n",
       "    </tr>\n",
       "    <tr>\n",
       "      <th>8</th>\n",
       "      <td>Facility/Infrastructure Attack</td>\n",
       "      <td>0.72</td>\n",
       "    </tr>\n",
       "  </tbody>\n",
       "</table>\n",
       "</div>"
      ],
      "text/plain": [
       "                       attacktype1_txt  avg_casualties\n",
       "0                            Hijacking           31.44\n",
       "1                      Unarmed Assault           14.69\n",
       "2  Hostage Taking (Barricade Incident)            8.52\n",
       "3                              Unknown            6.47\n",
       "4                    Bombing/Explosion            6.01\n",
       "5                        Armed Assault            5.57\n",
       "6          Hostage Taking (Kidnapping)            2.75\n",
       "7                        Assassination            2.01\n",
       "8       Facility/Infrastructure Attack            0.72"
      ]
     },
     "execution_count": 7,
     "metadata": {},
     "output_type": "execute_result"
    }
   ],
   "source": [
    "#average casualities for each attack type\n",
    "new_data=pd.read_sql(\"\"\"SELECT attacktype1_txt, round(avg(casualities),2) AS avg_casualties \n",
    "FROM terrorism_data \n",
    "GROUP BY 1 \n",
    "ORDER BY 2 DESC\"\"\",con)\n",
    "new_data"
   ]
  },
  {
   "cell_type": "code",
   "execution_count": 8,
   "metadata": {},
   "outputs": [
    {
     "data": {
      "application/vnd.microsoft.datawrangler.viewer.v0+json": {
       "columns": [
        {
         "name": "index",
         "rawType": "int64",
         "type": "integer"
        },
        {
         "name": "region_txt",
         "rawType": "object",
         "type": "string"
        },
        {
         "name": "total_casualties",
         "rawType": "float64",
         "type": "float"
        },
        {
         "name": "total_killed",
         "rawType": "float64",
         "type": "float"
        }
       ],
       "conversionMethod": "pd.DataFrame",
       "ref": "23363ae8-52ce-4fad-b1a9-75a51fd176ce",
       "rows": [
        [
         "0",
         "Middle East & North Africa",
         "351950.0",
         "137642.0"
        ],
        [
         "1",
         "South Asia",
         "242679.0",
         "101319.0"
        ],
        [
         "2",
         "Sub-Saharan Africa",
         "131243.0",
         "78386.0"
        ],
        [
         "3",
         "South America",
         "45553.0",
         "28849.0"
        ],
        [
         "4",
         "Southeast Asia",
         "41896.0",
         "15637.0"
        ],
        [
         "5",
         "Central America & Caribbean",
         "37699.0",
         "28708.0"
        ],
        [
         "6",
         "North America",
         "26447.0",
         "4916.0"
        ],
        [
         "7",
         "Western Europe",
         "25026.0",
         "6694.0"
        ],
        [
         "8",
         "Eastern Europe",
         "19460.0",
         "7415.0"
        ],
        [
         "9",
         "East Asia",
         "10365.0",
         "1152.0"
        ],
        [
         "10",
         "Central Asia",
         "3009.0",
         "1000.0"
        ],
        [
         "11",
         "Australasia & Oceania",
         "410.0",
         "150.0"
        ]
       ],
       "shape": {
        "columns": 3,
        "rows": 12
       }
      },
      "text/html": [
       "<div>\n",
       "<style scoped>\n",
       "    .dataframe tbody tr th:only-of-type {\n",
       "        vertical-align: middle;\n",
       "    }\n",
       "\n",
       "    .dataframe tbody tr th {\n",
       "        vertical-align: top;\n",
       "    }\n",
       "\n",
       "    .dataframe thead th {\n",
       "        text-align: right;\n",
       "    }\n",
       "</style>\n",
       "<table border=\"1\" class=\"dataframe\">\n",
       "  <thead>\n",
       "    <tr style=\"text-align: right;\">\n",
       "      <th></th>\n",
       "      <th>region_txt</th>\n",
       "      <th>total_casualties</th>\n",
       "      <th>total_killed</th>\n",
       "    </tr>\n",
       "  </thead>\n",
       "  <tbody>\n",
       "    <tr>\n",
       "      <th>0</th>\n",
       "      <td>Middle East &amp; North Africa</td>\n",
       "      <td>351950.0</td>\n",
       "      <td>137642.0</td>\n",
       "    </tr>\n",
       "    <tr>\n",
       "      <th>1</th>\n",
       "      <td>South Asia</td>\n",
       "      <td>242679.0</td>\n",
       "      <td>101319.0</td>\n",
       "    </tr>\n",
       "    <tr>\n",
       "      <th>2</th>\n",
       "      <td>Sub-Saharan Africa</td>\n",
       "      <td>131243.0</td>\n",
       "      <td>78386.0</td>\n",
       "    </tr>\n",
       "    <tr>\n",
       "      <th>3</th>\n",
       "      <td>South America</td>\n",
       "      <td>45553.0</td>\n",
       "      <td>28849.0</td>\n",
       "    </tr>\n",
       "    <tr>\n",
       "      <th>4</th>\n",
       "      <td>Southeast Asia</td>\n",
       "      <td>41896.0</td>\n",
       "      <td>15637.0</td>\n",
       "    </tr>\n",
       "    <tr>\n",
       "      <th>5</th>\n",
       "      <td>Central America &amp; Caribbean</td>\n",
       "      <td>37699.0</td>\n",
       "      <td>28708.0</td>\n",
       "    </tr>\n",
       "    <tr>\n",
       "      <th>6</th>\n",
       "      <td>North America</td>\n",
       "      <td>26447.0</td>\n",
       "      <td>4916.0</td>\n",
       "    </tr>\n",
       "    <tr>\n",
       "      <th>7</th>\n",
       "      <td>Western Europe</td>\n",
       "      <td>25026.0</td>\n",
       "      <td>6694.0</td>\n",
       "    </tr>\n",
       "    <tr>\n",
       "      <th>8</th>\n",
       "      <td>Eastern Europe</td>\n",
       "      <td>19460.0</td>\n",
       "      <td>7415.0</td>\n",
       "    </tr>\n",
       "    <tr>\n",
       "      <th>9</th>\n",
       "      <td>East Asia</td>\n",
       "      <td>10365.0</td>\n",
       "      <td>1152.0</td>\n",
       "    </tr>\n",
       "    <tr>\n",
       "      <th>10</th>\n",
       "      <td>Central Asia</td>\n",
       "      <td>3009.0</td>\n",
       "      <td>1000.0</td>\n",
       "    </tr>\n",
       "    <tr>\n",
       "      <th>11</th>\n",
       "      <td>Australasia &amp; Oceania</td>\n",
       "      <td>410.0</td>\n",
       "      <td>150.0</td>\n",
       "    </tr>\n",
       "  </tbody>\n",
       "</table>\n",
       "</div>"
      ],
      "text/plain": [
       "                     region_txt  total_casualties  total_killed\n",
       "0    Middle East & North Africa          351950.0      137642.0\n",
       "1                    South Asia          242679.0      101319.0\n",
       "2            Sub-Saharan Africa          131243.0       78386.0\n",
       "3                 South America           45553.0       28849.0\n",
       "4                Southeast Asia           41896.0       15637.0\n",
       "5   Central America & Caribbean           37699.0       28708.0\n",
       "6                 North America           26447.0        4916.0\n",
       "7                Western Europe           25026.0        6694.0\n",
       "8                Eastern Europe           19460.0        7415.0\n",
       "9                     East Asia           10365.0        1152.0\n",
       "10                 Central Asia            3009.0        1000.0\n",
       "11        Australasia & Oceania             410.0         150.0"
      ]
     },
     "execution_count": 8,
     "metadata": {},
     "output_type": "execute_result"
    }
   ],
   "source": [
    "#total casualities per region\n",
    "new_data=pd.read_sql(\"\"\"SELECT region_txt, SUM(casualities) AS total_casualties, sum(nkill) as total_killed\n",
    "FROM terrorism_data \n",
    "GROUP BY 1 \n",
    "ORDER BY total_casualties DESC\"\"\",con)\n",
    "new_data"
   ]
  },
  {
   "cell_type": "code",
   "execution_count": 9,
   "metadata": {},
   "outputs": [
    {
     "data": {
      "application/vnd.microsoft.datawrangler.viewer.v0+json": {
       "columns": [
        {
         "name": "index",
         "rawType": "int64",
         "type": "integer"
        },
        {
         "name": "region_txt",
         "rawType": "object",
         "type": "string"
        },
        {
         "name": "total_casualties",
         "rawType": "float64",
         "type": "float"
        },
        {
         "name": "total_killed",
         "rawType": "float64",
         "type": "float"
        }
       ],
       "conversionMethod": "pd.DataFrame",
       "ref": "ef0834f3-6e33-45d7-bb0f-e1c396082d5c",
       "rows": [
        [
         "0",
         "Eastern Europe",
         "227.0",
         "89.0"
        ],
        [
         "1",
         "South Asia",
         "192.0",
         "80.0"
        ],
        [
         "2",
         "Southeast Asia",
         "177.0",
         "64.0"
        ],
        [
         "3",
         "Middle East & North Africa",
         "98.0",
         "86.0"
        ],
        [
         "4",
         "Sub-Saharan Africa",
         "87.0",
         "44.0"
        ],
        [
         "5",
         "South America",
         "61.0",
         "28.0"
        ],
        [
         "6",
         "Western Europe",
         "37.0",
         "2.0"
        ],
        [
         "7",
         "Central Asia",
         "5.0",
         "1.0"
        ],
        [
         "8",
         "North America",
         "4.0",
         "0.0"
        ],
        [
         "9",
         "Central America & Caribbean",
         "2.0",
         "2.0"
        ],
        [
         "10",
         "East Asia",
         "0.0",
         "0.0"
        ],
        [
         "11",
         "Australasia & Oceania",
         "0.0",
         "0.0"
        ]
       ],
       "shape": {
        "columns": 3,
        "rows": 12
       }
      },
      "text/html": [
       "<div>\n",
       "<style scoped>\n",
       "    .dataframe tbody tr th:only-of-type {\n",
       "        vertical-align: middle;\n",
       "    }\n",
       "\n",
       "    .dataframe tbody tr th {\n",
       "        vertical-align: top;\n",
       "    }\n",
       "\n",
       "    .dataframe thead th {\n",
       "        text-align: right;\n",
       "    }\n",
       "</style>\n",
       "<table border=\"1\" class=\"dataframe\">\n",
       "  <thead>\n",
       "    <tr style=\"text-align: right;\">\n",
       "      <th></th>\n",
       "      <th>region_txt</th>\n",
       "      <th>total_casualties</th>\n",
       "      <th>total_killed</th>\n",
       "    </tr>\n",
       "  </thead>\n",
       "  <tbody>\n",
       "    <tr>\n",
       "      <th>0</th>\n",
       "      <td>Eastern Europe</td>\n",
       "      <td>227.0</td>\n",
       "      <td>89.0</td>\n",
       "    </tr>\n",
       "    <tr>\n",
       "      <th>1</th>\n",
       "      <td>South Asia</td>\n",
       "      <td>192.0</td>\n",
       "      <td>80.0</td>\n",
       "    </tr>\n",
       "    <tr>\n",
       "      <th>2</th>\n",
       "      <td>Southeast Asia</td>\n",
       "      <td>177.0</td>\n",
       "      <td>64.0</td>\n",
       "    </tr>\n",
       "    <tr>\n",
       "      <th>3</th>\n",
       "      <td>Middle East &amp; North Africa</td>\n",
       "      <td>98.0</td>\n",
       "      <td>86.0</td>\n",
       "    </tr>\n",
       "    <tr>\n",
       "      <th>4</th>\n",
       "      <td>Sub-Saharan Africa</td>\n",
       "      <td>87.0</td>\n",
       "      <td>44.0</td>\n",
       "    </tr>\n",
       "    <tr>\n",
       "      <th>5</th>\n",
       "      <td>South America</td>\n",
       "      <td>61.0</td>\n",
       "      <td>28.0</td>\n",
       "    </tr>\n",
       "    <tr>\n",
       "      <th>6</th>\n",
       "      <td>Western Europe</td>\n",
       "      <td>37.0</td>\n",
       "      <td>2.0</td>\n",
       "    </tr>\n",
       "    <tr>\n",
       "      <th>7</th>\n",
       "      <td>Central Asia</td>\n",
       "      <td>5.0</td>\n",
       "      <td>1.0</td>\n",
       "    </tr>\n",
       "    <tr>\n",
       "      <th>8</th>\n",
       "      <td>North America</td>\n",
       "      <td>4.0</td>\n",
       "      <td>0.0</td>\n",
       "    </tr>\n",
       "    <tr>\n",
       "      <th>9</th>\n",
       "      <td>Central America &amp; Caribbean</td>\n",
       "      <td>2.0</td>\n",
       "      <td>2.0</td>\n",
       "    </tr>\n",
       "    <tr>\n",
       "      <th>10</th>\n",
       "      <td>East Asia</td>\n",
       "      <td>0.0</td>\n",
       "      <td>0.0</td>\n",
       "    </tr>\n",
       "    <tr>\n",
       "      <th>11</th>\n",
       "      <td>Australasia &amp; Oceania</td>\n",
       "      <td>0.0</td>\n",
       "      <td>0.0</td>\n",
       "    </tr>\n",
       "  </tbody>\n",
       "</table>\n",
       "</div>"
      ],
      "text/plain": [
       "                     region_txt  total_casualties  total_killed\n",
       "0                Eastern Europe             227.0          89.0\n",
       "1                    South Asia             192.0          80.0\n",
       "2                Southeast Asia             177.0          64.0\n",
       "3    Middle East & North Africa              98.0          86.0\n",
       "4            Sub-Saharan Africa              87.0          44.0\n",
       "5                 South America              61.0          28.0\n",
       "6                Western Europe              37.0           2.0\n",
       "7                  Central Asia               5.0           1.0\n",
       "8                 North America               4.0           0.0\n",
       "9   Central America & Caribbean               2.0           2.0\n",
       "10                    East Asia               0.0           0.0\n",
       "11        Australasia & Oceania               0.0           0.0"
      ]
     },
     "execution_count": 9,
     "metadata": {},
     "output_type": "execute_result"
    }
   ],
   "source": [
    "#total killed per region based on year and month\n",
    "new_data=pd.read_sql(\"\"\"SELECT region_txt, SUM(casualities) AS total_casualties, sum(nkill) as total_killed\n",
    "FROM terrorism_data\n",
    "WHERE iyear='2000' and imonth='7'                \n",
    "GROUP BY 1 \n",
    "ORDER BY 2 DESC\"\"\",con)\n",
    "new_data"
   ]
  },
  {
   "cell_type": "code",
   "execution_count": 10,
   "metadata": {},
   "outputs": [
    {
     "data": {
      "application/vnd.microsoft.datawrangler.viewer.v0+json": {
       "columns": [
        {
         "name": "index",
         "rawType": "int64",
         "type": "integer"
        },
        {
         "name": "targtype1_txt",
         "rawType": "object",
         "type": "string"
        },
        {
         "name": "weaptype1_txt",
         "rawType": "object",
         "type": "string"
        },
        {
         "name": "total_killed",
         "rawType": "float64",
         "type": "float"
        }
       ],
       "conversionMethod": "pd.DataFrame",
       "ref": "a3e995a5-de14-43d8-a159-5565925021a3",
       "rows": [
        [
         "0",
         "Private Citizens & Property",
         "Firearms",
         "58421.0"
        ],
        [
         "1",
         "Military",
         "Firearms",
         "52731.0"
        ],
        [
         "2",
         "Private Citizens & Property",
         "Explosives",
         "51918.0"
        ],
        [
         "3",
         "Military",
         "Explosives",
         "39644.0"
        ],
        [
         "4",
         "Police",
         "Firearms",
         "25228.0"
        ],
        [
         "5",
         "Police",
         "Explosives",
         "21761.0"
        ],
        [
         "6",
         "Private Citizens & Property",
         "Unknown",
         "15704.0"
        ],
        [
         "7",
         "Business",
         "Explosives",
         "13938.0"
        ],
        [
         "8",
         "Military",
         "Unknown",
         "12778.0"
        ],
        [
         "9",
         "Government (General)",
         "Firearms",
         "12098.0"
        ],
        [
         "10",
         "Government (General)",
         "Explosives",
         "11824.0"
        ],
        [
         "11",
         "Religious Figures/Institutions",
         "Explosives",
         "8845.0"
        ],
        [
         "12",
         "Private Citizens & Property",
         "Melee",
         "8528.0"
        ],
        [
         "13",
         "Transportation",
         "Explosives",
         "8337.0"
        ],
        [
         "14",
         "Business",
         "Firearms",
         "6721.0"
        ],
        [
         "15",
         "Police",
         "Unknown",
         "5922.0"
        ],
        [
         "16",
         "Terrorists/Non-State Militia",
         "Explosives",
         "4166.0"
        ],
        [
         "17",
         "Transportation",
         "Firearms",
         "3910.0"
        ],
        [
         "18",
         "Terrorists/Non-State Militia",
         "Firearms",
         "3458.0"
        ],
        [
         "19",
         "Religious Figures/Institutions",
         "Firearms",
         "3420.0"
        ],
        [
         "20",
         "Airports & Aircraft",
         "Explosives",
         "3038.0"
        ],
        [
         "21",
         "Private Citizens & Property",
         "Vehicle (not to include vehicle-borne explosives, i.e., car or truck bombs)",
         "2868.0"
        ],
        [
         "22",
         "Unknown",
         "Explosives",
         "2803.0"
        ],
        [
         "23",
         "Private Citizens & Property",
         "Incendiary",
         "2603.0"
        ],
        [
         "24",
         "Violent Political Party",
         "Firearms",
         "2211.0"
        ],
        [
         "25",
         "Educational Institution",
         "Explosives",
         "2162.0"
        ],
        [
         "26",
         "Government (Diplomatic)",
         "Explosives",
         "1945.0"
        ],
        [
         "27",
         "Business",
         "Unknown",
         "1829.0"
        ],
        [
         "28",
         "Government (General)",
         "Unknown",
         "1467.0"
        ],
        [
         "29",
         "Educational Institution",
         "Firearms",
         "1271.0"
        ],
        [
         "30",
         "Terrorists/Non-State Militia",
         "Unknown",
         "1221.0"
        ],
        [
         "31",
         "Unknown",
         "Firearms",
         "1126.0"
        ],
        [
         "32",
         "Utilities",
         "Explosives",
         "1082.0"
        ],
        [
         "33",
         "Transportation",
         "Unknown",
         "937.0"
        ],
        [
         "34",
         "Government (Diplomatic)",
         "Firearms",
         "880.0"
        ],
        [
         "35",
         "Violent Political Party",
         "Explosives",
         "880.0"
        ],
        [
         "36",
         "Journalists & Media",
         "Firearms",
         "856.0"
        ],
        [
         "37",
         "Business",
         "Incendiary",
         "774.0"
        ],
        [
         "38",
         "NGO",
         "Firearms",
         "642.0"
        ],
        [
         "39",
         "Maritime",
         "Explosives",
         "518.0"
        ],
        [
         "40",
         "Airports & Aircraft",
         "Firearms",
         "512.0"
        ],
        [
         "41",
         "Religious Figures/Institutions",
         "Incendiary",
         "509.0"
        ],
        [
         "42",
         "Journalists & Media",
         "Explosives",
         "472.0"
        ],
        [
         "43",
         "Utilities",
         "Firearms",
         "453.0"
        ],
        [
         "44",
         "Violent Political Party",
         "Unknown",
         "450.0"
        ],
        [
         "45",
         "Military",
         "Incendiary",
         "447.0"
        ],
        [
         "46",
         "Religious Figures/Institutions",
         "Unknown",
         "445.0"
        ],
        [
         "47",
         "Transportation",
         "Incendiary",
         "383.0"
        ],
        [
         "48",
         "Police",
         "Melee",
         "376.0"
        ],
        [
         "49",
         "Private Citizens & Property",
         "Chemical",
         "345.0"
        ]
       ],
       "shape": {
        "columns": 3,
        "rows": 188
       }
      },
      "text/html": [
       "<div>\n",
       "<style scoped>\n",
       "    .dataframe tbody tr th:only-of-type {\n",
       "        vertical-align: middle;\n",
       "    }\n",
       "\n",
       "    .dataframe tbody tr th {\n",
       "        vertical-align: top;\n",
       "    }\n",
       "\n",
       "    .dataframe thead th {\n",
       "        text-align: right;\n",
       "    }\n",
       "</style>\n",
       "<table border=\"1\" class=\"dataframe\">\n",
       "  <thead>\n",
       "    <tr style=\"text-align: right;\">\n",
       "      <th></th>\n",
       "      <th>targtype1_txt</th>\n",
       "      <th>weaptype1_txt</th>\n",
       "      <th>total_killed</th>\n",
       "    </tr>\n",
       "  </thead>\n",
       "  <tbody>\n",
       "    <tr>\n",
       "      <th>0</th>\n",
       "      <td>Private Citizens &amp; Property</td>\n",
       "      <td>Firearms</td>\n",
       "      <td>58421.0</td>\n",
       "    </tr>\n",
       "    <tr>\n",
       "      <th>1</th>\n",
       "      <td>Military</td>\n",
       "      <td>Firearms</td>\n",
       "      <td>52731.0</td>\n",
       "    </tr>\n",
       "    <tr>\n",
       "      <th>2</th>\n",
       "      <td>Private Citizens &amp; Property</td>\n",
       "      <td>Explosives</td>\n",
       "      <td>51918.0</td>\n",
       "    </tr>\n",
       "    <tr>\n",
       "      <th>3</th>\n",
       "      <td>Military</td>\n",
       "      <td>Explosives</td>\n",
       "      <td>39644.0</td>\n",
       "    </tr>\n",
       "    <tr>\n",
       "      <th>4</th>\n",
       "      <td>Police</td>\n",
       "      <td>Firearms</td>\n",
       "      <td>25228.0</td>\n",
       "    </tr>\n",
       "    <tr>\n",
       "      <th>...</th>\n",
       "      <td>...</td>\n",
       "      <td>...</td>\n",
       "      <td>...</td>\n",
       "    </tr>\n",
       "    <tr>\n",
       "      <th>183</th>\n",
       "      <td>Transportation</td>\n",
       "      <td>Radiological</td>\n",
       "      <td>0.0</td>\n",
       "    </tr>\n",
       "    <tr>\n",
       "      <th>184</th>\n",
       "      <td>Unknown</td>\n",
       "      <td>Sabotage Equipment</td>\n",
       "      <td>0.0</td>\n",
       "    </tr>\n",
       "    <tr>\n",
       "      <th>185</th>\n",
       "      <td>Utilities</td>\n",
       "      <td>Melee</td>\n",
       "      <td>0.0</td>\n",
       "    </tr>\n",
       "    <tr>\n",
       "      <th>186</th>\n",
       "      <td>Utilities</td>\n",
       "      <td>Other</td>\n",
       "      <td>0.0</td>\n",
       "    </tr>\n",
       "    <tr>\n",
       "      <th>187</th>\n",
       "      <td>Violent Political Party</td>\n",
       "      <td>Sabotage Equipment</td>\n",
       "      <td>0.0</td>\n",
       "    </tr>\n",
       "  </tbody>\n",
       "</table>\n",
       "<p>188 rows × 3 columns</p>\n",
       "</div>"
      ],
      "text/plain": [
       "                   targtype1_txt       weaptype1_txt  total_killed\n",
       "0    Private Citizens & Property            Firearms       58421.0\n",
       "1                       Military            Firearms       52731.0\n",
       "2    Private Citizens & Property          Explosives       51918.0\n",
       "3                       Military          Explosives       39644.0\n",
       "4                         Police            Firearms       25228.0\n",
       "..                           ...                 ...           ...\n",
       "183               Transportation        Radiological           0.0\n",
       "184                      Unknown  Sabotage Equipment           0.0\n",
       "185                    Utilities               Melee           0.0\n",
       "186                    Utilities               Other           0.0\n",
       "187      Violent Political Party  Sabotage Equipment           0.0\n",
       "\n",
       "[188 rows x 3 columns]"
      ]
     },
     "execution_count": 10,
     "metadata": {},
     "output_type": "execute_result"
    }
   ],
   "source": [
    "#various targets and weapons used to kill\n",
    "new_data=pd.read_sql(\"\"\"SELECT targtype1_txt, weaptype1_txt,sum(nkill) as total_killed\n",
    "FROM terrorism_data              \n",
    "GROUP BY 1,2\n",
    "ORDER BY 3 DESC\"\"\",con)\n",
    "new_data"
   ]
  },
  {
   "cell_type": "code",
   "execution_count": null,
   "metadata": {},
   "outputs": [],
   "source": []
  }
 ],
 "metadata": {
  "kernelspec": {
   "display_name": "Python 3",
   "language": "python",
   "name": "python3"
  },
  "language_info": {
   "codemirror_mode": {
    "name": "ipython",
    "version": 3
   },
   "file_extension": ".py",
   "mimetype": "text/x-python",
   "name": "python",
   "nbconvert_exporter": "python",
   "pygments_lexer": "ipython3",
   "version": "3.10.5"
  }
 },
 "nbformat": 4,
 "nbformat_minor": 2
}
